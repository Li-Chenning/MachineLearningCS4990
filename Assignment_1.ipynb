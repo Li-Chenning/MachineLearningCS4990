{
  "nbformat": 4,
  "nbformat_minor": 0,
  "metadata": {
    "colab": {
      "name": "Assignment 1.ipynb",
      "version": "0.3.2",
      "provenance": [],
      "collapsed_sections": []
    },
    "language_info": {
      "codemirror_mode": {
        "name": "ipython",
        "version": 3
      },
      "file_extension": ".py",
      "mimetype": "text/x-python",
      "name": "python",
      "nbconvert_exporter": "python",
      "pygments_lexer": "ipython3",
      "version": "3.5.3"
    },
    "kernelspec": {
      "display_name": "Python 3",
      "language": "python",
      "name": "python3"
    }
  },
  "cells": [
    {
      "cell_type": "markdown",
      "metadata": {
        "deletable": true,
        "editable": true,
        "id": "xedRInH2Sq7W",
        "colab_type": "text"
      },
      "source": [
        "<h2>Assignment 1 - Part 1: Linear Regression on Boston Housing Data</h2>\n",
        "\n",
        "You're asked to do the following tasks to predict boston house price:\n",
        "<lu>\n",
        "<li>Use scikit-learn</li>\n",
        "<li>Implement analytical solution (normal equation) to obtain weights</li>\n",
        "<li>Implement numerical solution (gradient descent) to obtain weights</li>\n",
        "</lu>\n",
        "    Note: the accuracy of your implementations should be close to that of a linear model from scikit-learn\n",
        "\n",
        "In addition, you need to show the resulting intercept and coefficents, calculate errors on training dataset and testing dataset, and plot a figure to show your predictions and real prices on the testing dataset. "
      ]
    },
    {
      "cell_type": "code",
      "metadata": {
        "deletable": true,
        "editable": true,
        "id": "1v4pB8xnSq7Y",
        "colab_type": "code",
        "colab": {}
      },
      "source": [
        "# The modules we're going to use\n",
        "from __future__ import print_function\n",
        "from sklearn import preprocessing\n",
        "from sklearn.model_selection import train_test_split\n",
        "from sklearn import datasets, linear_model\n",
        "from scipy import linalg\n",
        "import numpy as np\n",
        "import matplotlib.pyplot as plt\n",
        "\n",
        "# When you execute a code to plot with a simple SHIFT-ENTER, the plot will be shown directly under the code cell\n",
        "%matplotlib inline"
      ],
      "execution_count": 0,
      "outputs": []
    },
    {
      "cell_type": "code",
      "metadata": {
        "deletable": true,
        "editable": true,
        "id": "d1WMHo4sSq7c",
        "colab_type": "code",
        "colab": {}
      },
      "source": [
        "# Load data from scikit-learn, which returns (data, target)\n",
        "# note: if you call \"boston = load_boston()\", it returns a dictionary-like object\n",
        "data, target = datasets.load_boston(True)\n",
        "\n",
        "# Split the data into two parts: training data and testing data\n",
        "train_data,test_data,train_target,test_target = train_test_split(data,(target[:, np.newaxis]), test_size=0.2, random_state=42)\n",
        "scaler = preprocessing.StandardScaler().fit(train_data)\n",
        "train_data = scaler.transform(train_data)\n",
        "test_data = scaler.transform(test_data)\n"
      ],
      "execution_count": 0,
      "outputs": []
    },
    {
      "cell_type": "markdown",
      "metadata": {
        "deletable": true,
        "editable": true,
        "id": "WPPiIGUkSq7g",
        "colab_type": "text"
      },
      "source": [
        "<h4>Use scikit-learn library in the following cell</h4>"
      ]
    },
    {
      "cell_type": "code",
      "metadata": {
        "deletable": true,
        "editable": true,
        "id": "WqA3V89HSq7i",
        "colab_type": "code",
        "outputId": "6fc5be87-dd07-4067-c703-121c16e0db88",
        "colab": {
          "base_uri": "https://localhost:8080/",
          "height": 367
        }
      },
      "source": [
        "# Task 1-1: use linear regression in sklearn\n",
        "regr = linear_model.LinearRegression()\n",
        "regr.fit(train_data, train_target)\n",
        "\n",
        "# Task 1-2: show intercept and coefficents\n",
        "print(\"Coefficents: \", regr.coef_)\n",
        "print(\"Intercept: \", regr.intercept_)\n",
        "\n",
        "# Task 1-3: show errors on training dataset and testing dataset\n",
        "import sklearn\n",
        "Y_pred = regr.predict(test_data)\n",
        "error = sklearn.metrics.mean_squared_error(test_target, Y_pred)\n",
        "print(\"ERROR: \",error)\n",
        "\n",
        "\n",
        "# Task 1-4: show plot a figure to show your predictions and real prices on the testing dataset\n",
        "plt.scatter(test_target, Y_pred)\n",
        "plt.xlabel(\"Real Prices\")\n",
        "plt.ylabel(\"Predicted prices\")\n",
        "plt.show()"
      ],
      "execution_count": 128,
      "outputs": [
        {
          "output_type": "stream",
          "text": [
            "Coefficents:  [[-1.00213533  0.69626862  0.27806485  0.7187384  -2.0223194   3.14523956\n",
            "  -0.17604788 -3.0819076   2.25140666 -1.76701378 -2.03775151  1.12956831\n",
            "  -3.61165842]]\n",
            "Intercept:  [22.79653465]\n",
            "ERROR:  24.29111947497351\n"
          ],
          "name": "stdout"
        },
        {
          "output_type": "display_data",
          "data": {
            "image/png": "[encoded data removed]",
            "text/plain": [
              "<Figure size 432x288 with 1 Axes>"
            ]
          },
          "metadata": {
            "tags": []
          }
        }
      ]
    },
    {
      "cell_type": "markdown",
      "metadata": {
        "deletable": true,
        "editable": true,
        "id": "LbImxvM0Sq7l",
        "colab_type": "text"
      },
      "source": [
        "<h4>Use analytical solution (normal equation) to perform linear regression in the following cell</h4>"
      ]
    },
    {
      "cell_type": "markdown",
      "metadata": {
        "deletable": true,
        "editable": true,
        "id": "S-t6ak4WSq7p",
        "colab_type": "text"
      },
      "source": [
        "<h4>Use numerical solution (gradient descent) to perform linear regression in the following cell</h4>"
      ]
    },
    {
      "cell_type": "code",
      "metadata": {
        "deletable": true,
        "editable": true,
        "id": "D-mnJX13Sq7m",
        "colab_type": "code",
        "outputId": "4a03dfc1-ac56-42c4-b6d4-2ee97cc8eafe",
        "colab": {
          "base_uri": "https://localhost:8080/",
          "height": 569
        }
      },
      "source": [
        "# Task 2-1: Implement a function solving normal equation \n",
        "# Inputs: Training data and  training label\n",
        "# Output: Weights\n",
        "def myNormalEqualFun(X,y):\n",
        "  return np.matmul(np.matmul(np.linalg.inv(np.matmul(X.T, X)),X.T), y)\n",
        "    \n",
        "# Task 2-2: Implement a function performing prediction\n",
        "# Inputs: Testing data and weights\n",
        "# Output: Predictions\n",
        "def myPredictFun(X,w):\n",
        "  co = np.split(w, [1, 14])[1]\n",
        "  Y_pred = w.item(0)\n",
        "  i = 0\n",
        "  for x in co:\n",
        "    Y_pred += X.item(i)*x\n",
        "    i+=1\n",
        "  return Y_pred\n",
        "\n",
        "# Here we insert a column of 1s into training_data and test_data (to be consistent with our lecture slides)\n",
        "train_data_intercept = np.insert(train_data, 0, 1, axis=1)\n",
        "test_data_intercept = np.insert(test_data, 0, 1, axis=1)\n",
        "\n",
        "# Here we call myNormalEqual to train the model and get weights\n",
        "w = myNormalEqualFun(train_data_intercept,train_target)\n",
        "\n",
        "\n",
        "# Task 2-3: show intercept and coefficents\n",
        "print(\"interception: \")\n",
        "print(w.item(0))\n",
        "co = np.split(w, [1, 14])\n",
        "print(\"cofficient: \")\n",
        "print(co[1])\n",
        "\n",
        "# Task 2-4: show errors on training dataset and testing dataset\n",
        "size = test_data.shape[0]\n",
        "result = [0 for i in range(size)]\n",
        "i =0\n",
        "for t in test_data:\n",
        "  result[i] = myPredictFun(t,w)\n",
        "  i+=1\n",
        "  \n",
        "error = sklearn.metrics.mean_squared_error(test_target, result)\n",
        "print(\"ERROR: \", error)\n",
        "# Task 2-5: show plot a figure to show your predictions and real prices on the testing dataset\n",
        "plt.scatter(test_target, Y_pred )\n",
        "plt.xlabel(\"Real Prices\")\n",
        "plt.ylabel(\"Predicted prices\")\n",
        "plt.show()"
      ],
      "execution_count": 129,
      "outputs": [
        {
          "output_type": "stream",
          "text": [
            "interception: \n",
            "22.79653465346538\n",
            "cofficient: \n",
            "[[-1.00213533]\n",
            " [ 0.69626862]\n",
            " [ 0.27806485]\n",
            " [ 0.7187384 ]\n",
            " [-2.0223194 ]\n",
            " [ 3.14523956]\n",
            " [-0.17604788]\n",
            " [-3.0819076 ]\n",
            " [ 2.25140666]\n",
            " [-1.76701378]\n",
            " [-2.03775151]\n",
            " [ 1.12956831]\n",
            " [-3.61165842]]\n",
            "ERROR:  24.2911194749735\n"
          ],
          "name": "stdout"
        },
        {
          "output_type": "display_data",
          "data": {
            "image/png": "[encoded data removed]",
            "text/plain": [
              "<Figure size 432x288 with 1 Axes>"
            ]
          },
          "metadata": {
            "tags": []
          }
        }
      ]
    },
    {
      "cell_type": "code",
      "metadata": {
        "deletable": true,
        "editable": true,
        "id": "K_bAk6gISq7q",
        "colab_type": "code",
        "outputId": "2a63233f-872d-4a62-b6a6-758f2c3665a1",
        "colab": {
          "base_uri": "https://localhost:8080/",
          "height": 535
        }
      },
      "source": [
        "# Feature scaling\n",
        "scaler = preprocessing.StandardScaler().fit(train_data)\n",
        "train_data = scaler.transform(train_data)\n",
        "test_data = scaler.transform(test_data)\n",
        "\n",
        "\n",
        "# Task 3-1: Implement a function performing gradient descent\n",
        "# Inputs: Training data, training label, leaerning rate, number of iterations\n",
        "# Output: Weights\n",
        "\n",
        "\n",
        "def myGradientDescentFun(X,y,learning_rate,numItrs):\n",
        "  n = y.shape[0]\n",
        "  w = np.arange(0,X.shape[1]).reshape((X.shape[1],1))\n",
        "  #w = np.arange(y.shape[1], dtype=int)\n",
        "  np.full_like(w, 10)\n",
        "  i=0\n",
        "  #w = np.full((y.shape[1],1 ), 10) \n",
        "  while i< numItrs:\n",
        "    o = (1/n)*X.T\n",
        "    a = np.subtract(y,np.matmul(X,w))\n",
        "    inside = np.matmul(o,a)\n",
        "    w = np.add(w, learning_rate*inside)\n",
        "    i+=1 \n",
        "  return w\n",
        "\n",
        "# Task 3-2: Implement a function performing prediction\n",
        "# Inputs: Testing data and weights\n",
        "# Output: Predictions\n",
        "def myPredictFun(X,w):\n",
        "  coefficents = np.split(w, [1, 14])[1]\n",
        "  Y_pred = w.item(0)\n",
        "  i = 0\n",
        "  for x in coefficents:\n",
        "    Y_pred += X.item(i)*x\n",
        "    i+=1\n",
        "  return Y_pred\n",
        "\n",
        "# Here we insert a column of 1s into training_data and test_data (to be consistent with our lecture slides)\n",
        "train_data_intercept = np.insert(train_data, 0, 1, axis=1)\n",
        "test_data_intercept = np.insert(test_data, 0, 1, axis=1)\n",
        "\n",
        "# Here we call myGradientDescentFun to train the model and get weights\n",
        "# Note: you need to figure out good learning rate value and the number of iterations\n",
        "w = myGradientDescentFun(train_data_intercept,train_target,0.25,100)\n",
        "\n",
        "# Task 3-3: show intercept and coefficents\n",
        "print(\"interception: \", w.item(0))\n",
        "coefficients = np.split(w, [1, 14])\n",
        "print(\"coefficient: \", coefficients[1])\n",
        "\n",
        "\n",
        "# Task 3-4: show errors on training dataset and testing dataset\n",
        "size = test_data.shape[0]\n",
        "result = [0 for i in range(size)]\n",
        "i =0\n",
        "for t in test_data:\n",
        "  result[i] = myPredictFun(t,w)\n",
        "  i+=1\n",
        "error = sklearn.metrics.mean_squared_error(test_target, result) \n",
        "print(\"ERROR: \" + str(error))\n",
        "\n",
        "# Task 3-5: show plot a figure to show your predictions and real prices on the testing dataset\n",
        "plt.scatter(test_target, result)\n",
        "plt.xlabel(\"Real Prices\")\n",
        "plt.ylabel(\"Predicted prices\")\n",
        "plt.show()"
      ],
      "execution_count": 130,
      "outputs": [
        {
          "output_type": "stream",
          "text": [
            "interception:  22.796534653458036\n",
            "coefficient:  [[-0.94246471]\n",
            " [ 0.55487157]\n",
            " [ 0.08204881]\n",
            " [ 0.74861699]\n",
            " [-1.91955299]\n",
            " [ 3.21856312]\n",
            " [-0.19314986]\n",
            " [-2.95617712]\n",
            " [ 1.61982044]\n",
            " [-1.0896566 ]\n",
            " [-2.01104295]\n",
            " [ 1.13087845]\n",
            " [-3.57793249]]\n",
            "ERROR: 24.79221826327506\n"
          ],
          "name": "stdout"
        },
        {
          "output_type": "display_data",
          "data": {
            "image/png": "[encoded data removed]",
            "text/plain": [
              "<Figure size 432x288 with 1 Axes>"
            ]
          },
          "metadata": {
            "tags": []
          }
        }
      ]
    }
  ]
}